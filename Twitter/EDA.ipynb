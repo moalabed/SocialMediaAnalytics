{
 "cells": [
  {
   "cell_type": "markdown",
   "metadata": {},
   "source": [
    "This will serve as an exploratory notebook for the purpose of analysing a public social media API"
   ]
  },
  {
   "cell_type": "code",
   "execution_count": null,
   "metadata": {
    "vscode": {
     "languageId": "plaintext"
    }
   },
   "outputs": [],
   "source": [
    "import requests\n",
    "from requests_oauthlib import OAuth1\n",
    "\n",
    "# Replace these with your actual credentials from Twitter API\n",
    "API_KEY = ''\n",
    "API_SECRET_KEY = ''\n",
    "ACCESS_TOKEN = ''\n",
    "ACCESS_TOKEN_SECRET = ''\n",
    "\n",
    "# Base URL for Twitter API v2 (GET request example: getting the user's timeline)\n",
    "base_url = \"https://api.x.com/2\"\n",
    "\n",
    "# Set up the OAuth1 authorization\n",
    "auth = OAuth1(API_KEY, API_SECRET_KEY, ACCESS_TOKEN, ACCESS_TOKEN_SECRET)\n",
    "\n",
    "\n",
    "def send_get_request(endpoint, params=None):\n",
    "    \"\"\"\n",
    "    Sends a GET request to the specified Twitter API endpoint.\n",
    "\n",
    "    :param endpoint: The specific Twitter API endpoint.\n",
    "    :param params: Dictionary of query parameters to be included in the request.\n",
    "    :return: Response object from the GET request.\n",
    "    \"\"\"\n",
    "    url = f\"{base_url}/{endpoint}\"\n",
    "    response = requests.get(url, auth=auth, params=params)\n",
    "\n",
    "    if response.status_code == 200:\n",
    "        return response.json()\n",
    "    else:\n",
    "        print(f\"Error: {response.status_code} - {response.text}\")\n",
    "        return None\n",
    "\n",
    "\n",
    "# Fetching the authenticated user's information\n",
    "if __name__ == \"__main__\":\n",
    "    endpoint = \"users/me\"\n",
    "    params = {\n",
    "        'user.fields': 'id,name,username,created_at'\n",
    "    }\n",
    "\n",
    "    user_data = send_get_request(endpoint, params)\n",
    "\n",
    "    if user_data:\n",
    "        print(\"Authenticated User Information:\")\n",
    "        print(user_data)\n",
    "    else:\n",
    "        print(\"Failed to get user information.\")\n"
   ]
  }
 ],
 "metadata": {
  "language_info": {
   "name": "python"
  }
 },
 "nbformat": 4,
 "nbformat_minor": 2
}
